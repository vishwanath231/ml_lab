{
 "cells": [
  {
   "cell_type": "code",
   "execution_count": 2,
   "id": "bff3d7c8",
   "metadata": {},
   "outputs": [
    {
     "name": "stdout",
     "output_type": "stream",
     "text": [
      "Iteration  1\n",
      "Random number  1\n",
      "calculated result =  5\n",
      "Iteration  2\n",
      "Random number  -1\n",
      "calculated result =  5\n",
      "Iteration  3\n",
      "Random number  8\n",
      "calculated result =  320\n",
      "Iteration  4\n",
      "Random number  -6\n",
      "calculated result =  180\n",
      "Iteration  5\n",
      "Random number  2\n",
      "calculated result =  20\n",
      "Iteration  6\n",
      "Random number  0\n",
      "calculated result =  0\n",
      "Iteration  7\n",
      "Random number  4\n",
      "calculated result =  80\n",
      "Result \n",
      "------------------\n",
      "No of Iterations  7\n",
      "Success on randm no  4\n",
      "calculated result =  80\n",
      "x =  4\n"
     ]
    }
   ],
   "source": [
    "# 5x2 = 80\n",
    "import random\n",
    "# x = 5\n",
    "result = 80.0\n",
    "co_efficient = 5\n",
    "from_rand = -8\n",
    "upto_rand = +8\n",
    "count = 0\n",
    "calculated_result = 0\n",
    "status = False\n",
    "while(status == False):\n",
    "    count = count + 1\n",
    "    print(\"Iteration \", count)\n",
    " \n",
    "    rand_no = (random.randint(from_rand,upto_rand))\n",
    "    calculated_result = rand_no * rand_no * co_efficient\n",
    "    print(\"Random number \", rand_no)\n",
    "    print(\"calculated result = \",calculated_result)\n",
    "    if(int(calculated_result) == result):\n",
    "        status = True\n",
    "        \n",
    "        \n",
    "print(\"Result \")\n",
    "print(\"------------------\")\n",
    "print(\"No of Iterations \", count)\n",
    "print(\"Success on randm no \", rand_no)\n",
    "print(\"calculated result = \", calculated_result)\n",
    "print(\"x = \",rand_no)"
   ]
  }
 ],
 "metadata": {
  "kernelspec": {
   "display_name": "Python 3 (ipykernel)",
   "language": "python",
   "name": "python3"
  },
  "language_info": {
   "codemirror_mode": {
    "name": "ipython",
    "version": 3
   },
   "file_extension": ".py",
   "mimetype": "text/x-python",
   "name": "python",
   "nbconvert_exporter": "python",
   "pygments_lexer": "ipython3",
   "version": "3.9.12"
  }
 },
 "nbformat": 4,
 "nbformat_minor": 5
}
