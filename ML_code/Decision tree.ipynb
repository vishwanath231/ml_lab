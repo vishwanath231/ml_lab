{
 "cells": [
  {
   "cell_type": "code",
   "execution_count": 1,
   "id": "c334ed57",
   "metadata": {},
   "outputs": [],
   "source": [
    "import pandas as pd\n",
    "from matplotlib import pyplot as plt"
   ]
  },
  {
   "cell_type": "code",
   "execution_count": 2,
   "id": "7d56ac0a",
   "metadata": {},
   "outputs": [
    {
     "name": "stdout",
     "output_type": "stream",
     "text": [
      "Number of Rows and Columns: \n",
      "(20, 5)\n"
     ]
    },
    {
     "data": {
      "text/plain": [
       "(    Radius_mean  Texture_mean  Perimeter_mean  Area_mean\n",
       " 0        17.990         10.38          122.80     1001.0\n",
       " 1        20.570         17.77          132.90     1326.0\n",
       " 2        19.690         21.25          130.00     1203.0\n",
       " 3        11.420         20.38           77.58      386.1\n",
       " 4        20.290         14.34          135.10     1297.0\n",
       " 5        12.450         15.70           82.57      477.1\n",
       " 6        18.250         19.98          119.60     1040.0\n",
       " 7        13.710         20.83           90.20      577.9\n",
       " 8        13.000         21.82           87.50      519.8\n",
       " 9        12.460         24.04           83.97      475.9\n",
       " 10       16.020         23.24          102.70      797.8\n",
       " 11       15.780         17.89          103.60      781.0\n",
       " 12       14.610         15.69           92.68      664.9\n",
       " 13       12.760         13.37           82.29      504.1\n",
       " 14       11.540         10.72           73.73      409.1\n",
       " 15        8.597         18.60           54.09      221.2\n",
       " 16       12.490         16.85           79.19      481.6\n",
       " 17       12.180         14.08           77.25      461.4\n",
       " 18       18.220         18.87          118.70     1027.0\n",
       " 19        9.042         18.90           60.07      244.5,\n",
       "     Diagnosis\n",
       " 0           1\n",
       " 1           1\n",
       " 2           1\n",
       " 3           1\n",
       " 4           1\n",
       " 5           1\n",
       " 6           1\n",
       " 7           1\n",
       " 8           1\n",
       " 9           1\n",
       " 10          1\n",
       " 11          1\n",
       " 12          0\n",
       " 13          0\n",
       " 14          0\n",
       " 15          0\n",
       " 16          0\n",
       " 17          0\n",
       " 18          1\n",
       " 19          0)"
      ]
     },
     "execution_count": 2,
     "metadata": {},
     "output_type": "execute_result"
    }
   ],
   "source": [
    "dataset = pd.read_csv(\"DecisionTree.csv\")\n",
    "print(\"Number of Rows and Columns: \")\n",
    "print(dataset.shape)\n",
    "x = pd.DataFrame(dataset.iloc[:,:-1])\n",
    "y = pd.DataFrame(dataset.iloc[:,-1])\n",
    "x,y"
   ]
  },
  {
   "cell_type": "code",
   "execution_count": 3,
   "id": "245eb177",
   "metadata": {},
   "outputs": [],
   "source": [
    "from sklearn.model_selection import train_test_split\n",
    "x_train,x_test,y_train,y_test=train_test_split(x,y,test_size=0.20)\n"
   ]
  },
  {
   "cell_type": "code",
   "execution_count": 4,
   "id": "dbe94af5",
   "metadata": {},
   "outputs": [
    {
     "name": "stdout",
     "output_type": "stream",
     "text": [
      "DecisionTreeClassifier(random_state=100)\n"
     ]
    }
   ],
   "source": [
    "from sklearn.tree import DecisionTreeClassifier\n",
    "classifier = DecisionTreeClassifier(criterion='gini', random_state=100, max_depth=None, min_samples_leaf=1)\n",
    "classifier.fit(x_train,y_train)\n",
    "print(classifier)"
   ]
  },
  {
   "cell_type": "code",
   "execution_count": 5,
   "id": "b2da4d49",
   "metadata": {},
   "outputs": [
    {
     "name": "stdout",
     "output_type": "stream",
     "text": [
      "The prediction:  [0 1 0 1]\n",
      "The Tested data: \n",
      "    Diagnosis\n",
      "19          0\n",
      "6           1\n",
      "5           1\n",
      "11          1\n"
     ]
    }
   ],
   "source": [
    "y_pred=classifier.predict(x_test)\n",
    "print(\"The prediction: \",y_pred)\n",
    "print(\"The Tested data: \")\n",
    "print(y_test)"
   ]
  },
  {
   "cell_type": "code",
   "execution_count": null,
   "id": "4214373c",
   "metadata": {},
   "outputs": [],
   "source": []
  },
  {
   "cell_type": "code",
   "execution_count": 12,
   "id": "e1a42572",
   "metadata": {},
   "outputs": [
    {
     "name": "stdout",
     "output_type": "stream",
     "text": [
      "Confusion Matrix Values: \n",
      "[[1 0]\n",
      " [1 2]]\n"
     ]
    }
   ],
   "source": [
    "from sklearn.metrics import confusion_matrix, accuracy_score\n",
    "cm = confusion_matrix(y_test,y_pred)\n",
    "print(\"Confusion Matrix Values: \")\n",
    "print(cm)\n"
   ]
  },
  {
   "cell_type": "code",
   "execution_count": 15,
   "id": "7ea5eb2e",
   "metadata": {},
   "outputs": [
    {
     "name": "stdout",
     "output_type": "stream",
     "text": [
      "classification_report: \n",
      "              precision    recall  f1-score   support\n",
      "\n",
      "           0       0.50      1.00      0.67         1\n",
      "           1       1.00      0.67      0.80         3\n",
      "\n",
      "    accuracy                           0.75         4\n",
      "   macro avg       0.75      0.83      0.73         4\n",
      "weighted avg       0.88      0.75      0.77         4\n",
      "\n"
     ]
    },
    {
     "data": {
      "image/png": "[encoded data removed]",
      "text/plain": [
       "<Figure size 432x288 with 1 Axes>"
      ]
     },
     "metadata": {
      "needs_background": "light"
     },
     "output_type": "display_data"
    }
   ],
   "source": [
    "from sklearn.metrics import classification_report\n",
    "\n",
    "classification_report=classification_report(y_test,y_pred)\n",
    "print(\"classification_report: \")\n",
    "print(classification_report)\n",
    "plt.plot(cm)\n",
    "plt.xlabel('x-axis')\n",
    "plt.ylabel('y-axis')\n",
    "plt.title(\"plots of confusion matrix\")\n",
    "plt.show()\n"
   ]
  },
  {
   "cell_type": "code",
   "execution_count": 8,
   "id": "646f7b3d",
   "metadata": {},
   "outputs": [
    {
     "name": "stdout",
     "output_type": "stream",
     "text": [
      "Accuracy: 0.75\n"
     ]
    }
   ],
   "source": [
    "result2 = accuracy_score(y_test,y_pred)\n",
    "print(\"Accuracy:\",result2)"
   ]
  },
  {
   "cell_type": "code",
   "execution_count": null,
   "id": "7bd1a655",
   "metadata": {},
   "outputs": [],
   "source": []
  }
 ],
 "metadata": {
  "kernelspec": {
   "display_name": "Python 3 (ipykernel)",
   "language": "python",
   "name": "python3"
  },
  "language_info": {
   "codemirror_mode": {
    "name": "ipython",
    "version": 3
   },
   "file_extension": ".py",
   "mimetype": "text/x-python",
   "name": "python",
   "nbconvert_exporter": "python",
   "pygments_lexer": "ipython3",
   "version": "3.9.12"
  }
 },
 "nbformat": 4,
 "nbformat_minor": 5
}
