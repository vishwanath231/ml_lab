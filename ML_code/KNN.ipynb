{
 "cells": [
  {
   "cell_type": "code",
   "execution_count": 1,
   "id": "2b7440cf",
   "metadata": {},
   "outputs": [],
   "source": [
    "import numpy as nm\n",
    "import matplotlib.pyplot as plt\n",
    "import pandas as pd\n"
   ]
  },
  {
   "cell_type": "code",
   "execution_count": 2,
   "id": "230a1bfb",
   "metadata": {},
   "outputs": [],
   "source": [
    "data_set = pd.read_csv('KNN.csv')\n",
    "x = data_set.iloc[:, [2, 3]].values\n",
    "y = data_set.iloc[:, 4].values\n"
   ]
  },
  {
   "cell_type": "code",
   "execution_count": 3,
   "id": "3793f607",
   "metadata": {},
   "outputs": [
    {
     "name": "stdout",
     "output_type": "stream",
     "text": [
      "Trained x dataset:\n",
      " [[ 2.149452   -1.02601437]\n",
      " [-0.28717375  0.70708966]\n",
      " [-1.26182405  0.4720925 ]\n",
      " [-0.40900504 -0.49727077]\n",
      " [-0.28717375 -0.0566511 ]\n",
      " [ 0.32198269 -1.23163688]\n",
      " [ 0.68747655  0.14897141]\n",
      " [ 0.32198269  2.6458162 ]\n",
      " [ 1.90578942 -0.99663973]\n",
      " [-0.40900504 -0.23289897]\n",
      " [-0.28717375 -0.08602574]\n",
      " [-1.26182405 -1.20226224]\n",
      " [-0.04351117  0.58959108]\n",
      " [-1.13999276  0.76583895]]\n",
      "Tested x dataset:\n",
      " [[-0.40900504  0.58959108]\n",
      " [ 0.68747655 -1.1728876 ]\n",
      " [-0.53083632 -0.79101722]\n",
      " [ 2.02762071 -0.93789044]\n",
      " [-1.38365533  0.64834037]]\n"
     ]
    }
   ],
   "source": [
    "from sklearn.model_selection import train_test_split\n",
    "x_train, x_test, y_train, y_test = train_test_split(x, y, test_size=0.25, random_state=0)\n",
    "from sklearn.preprocessing import StandardScaler\n",
    "st_x = StandardScaler()\n",
    "x_train = st_x.fit_transform(x_train)\n",
    "print(\"Trained x dataset:\\n\",x_train)\n",
    "x_test = st_x.transform(x_test)\n",
    "print(\"Tested x dataset:\\n\",x_test)"
   ]
  },
  {
   "cell_type": "code",
   "execution_count": 4,
   "id": "4a773324",
   "metadata": {},
   "outputs": [
    {
     "name": "stdout",
     "output_type": "stream",
     "text": [
      "Prediction values:  [0 0 0 0 0]\n"
     ]
    }
   ],
   "source": [
    "from sklearn.neighbors import KNeighborsClassifier\n",
    "classifier= KNeighborsClassifier(n_neighbors=5, metric='minkowski', p=2 )\n",
    "classifier.fit(x_train, y_train)\n",
    "y_pred= classifier.predict(x_test)\n",
    "print(\"Prediction values: \",y_pred)"
   ]
  },
  {
   "cell_type": "code",
   "execution_count": 6,
   "id": "746fe920",
   "metadata": {},
   "outputs": [
    {
     "name": "stdout",
     "output_type": "stream",
     "text": [
      "Confusion Matrix:  [[4 0]\n",
      " [1 0]]\n"
     ]
    },
    {
     "data": {
      "image/png": "[encoded data removed]",
      "text/plain": [
       "<Figure size 432x288 with 1 Axes>"
      ]
     },
     "metadata": {
      "needs_background": "light"
     },
     "output_type": "display_data"
    },
    {
     "name": "stdout",
     "output_type": "stream",
     "text": [
      "Accuracy: 0.8\n"
     ]
    }
   ],
   "source": [
    "from sklearn.metrics import confusion_matrix, accuracy_score\n",
    "cm= confusion_matrix(y_test, y_pred)\n",
    "print(\"Confusion Matrix: \",cm)\n",
    "plt.plot(cm)\n",
    "plt.xlabel('x-axis')\n",
    "plt.ylabel('y-axis')\n",
    "plt.title(\"plots of confusioin matrix\")\n",
    "plt.show()\n",
    "result2 = accuracy_score(y_test,y_pred)\n",
    "print(\"Accuracy:\",result2)"
   ]
  }
 ],
 "metadata": {
  "kernelspec": {
   "display_name": "Python 3 (ipykernel)",
   "language": "python",
   "name": "python3"
  },
  "language_info": {
   "codemirror_mode": {
    "name": "ipython",
    "version": 3
   },
   "file_extension": ".py",
   "mimetype": "text/x-python",
   "name": "python",
   "nbconvert_exporter": "python",
   "pygments_lexer": "ipython3",
   "version": "3.9.12"
  }
 },
 "nbformat": 4,
 "nbformat_minor": 5
}
